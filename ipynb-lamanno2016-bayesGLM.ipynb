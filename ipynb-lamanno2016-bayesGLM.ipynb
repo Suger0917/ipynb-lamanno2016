{
 "cells": [
  {
   "cell_type": "markdown",
   "metadata": {
    "toc": "true"
   },
   "source": [
    "# Table of Contents\n",
    " <p><div class=\"lev1\"><a href=\"#Imports\"><span class=\"toc-item-num\">1&nbsp;&nbsp;</span>Imports</a></div><div class=\"lev1\"><a href=\"#Define-the-model-in-stan\"><span class=\"toc-item-num\">2&nbsp;&nbsp;</span>Define the model in stan</a></div><div class=\"lev1\"><a href=\"#Run-the-script-to-do-MCMC-sampling-(using-pyStan)\"><span class=\"toc-item-num\">3&nbsp;&nbsp;</span>Run the script to do MCMC sampling (using pyStan)</a></div><div class=\"lev1\"><a href=\"#Load-the-Cef-file\"><span class=\"toc-item-num\">4&nbsp;&nbsp;</span>Load the Cef file</a></div><div class=\"lev1\"><a href=\"#Load-the-posteriors-and-define-Binary-Patterns\"><span class=\"toc-item-num\">5&nbsp;&nbsp;</span>Load the posteriors and define Binary Patterns</a></div><div class=\"lev1\"><a href=\"#Plot-violins\"><span class=\"toc-item-num\">6&nbsp;&nbsp;</span>Plot violins</a></div>"
   ]
  },
  {
   "cell_type": "markdown",
   "metadata": {},
   "source": [
    "# Imports"
   ]
  },
  {
   "cell_type": "code",
   "execution_count": 1,
   "metadata": {
    "collapsed": false,
    "run_control": {
     "frozen": false,
     "read_only": false
    }
   },
   "outputs": [
    {
     "name": "stdout",
     "output_type": "stream",
     "text": [
      "Populating the interactive namespace from numpy and matplotlib\n"
     ]
    }
   ],
   "source": [
    "%pylab inline"
   ]
  },
  {
   "cell_type": "code",
   "execution_count": 2,
   "metadata": {
    "code_folding": [],
    "collapsed": false,
    "run_control": {
     "frozen": false,
     "read_only": false
    }
   },
   "outputs": [],
   "source": [
    "#imports\n",
    "import pandas as pd\n",
    "from Cef_tools import CEF_obj\n",
    "from itertools import izip\n",
    "import pystan"
   ]
  },
  {
   "cell_type": "markdown",
   "metadata": {},
   "source": [
    "# Define the model in stan"
   ]
  },
  {
   "cell_type": "markdown",
   "metadata": {},
   "source": [
    "\n",
    "        # Bayesian Negative Binomial regression for single-cell RNA-seq\n",
    "\n",
    "        data {\n",
    "            int<lower=0> N;                 # number of outcomes\n",
    "            int<lower=0> K;                 # number of predictors\n",
    "            matrix<lower=0>[N,K] x;         # predictor matrix \n",
    "            int y[N];                       # outcomes\n",
    "        }\n",
    "\n",
    "        parameters {\n",
    "            vector<lower=1>[K] beta;  # coefficients\n",
    "            real<lower=0.001> r;  # overdispersion\n",
    "        }\n",
    "\n",
    "        model {\t\n",
    "            vector[N] mu;\n",
    "            vector[N] rv;\n",
    "\n",
    "            # priors\n",
    "            r ~ cauchy(0, 1);\n",
    "            beta ~ pareto(1, 1.5);\n",
    "\n",
    "            # vectorize the scale\n",
    "            for (n in 1:N) {\n",
    "                rv[n] <- square(r + 1) - 1;\n",
    "            }\n",
    "\n",
    "            # regression\n",
    "            mu <- x * (beta - 1) + 0.001;\n",
    "            y ~ neg_binomial(mu ./ rv, 1 / rv[1]);\n",
    "        }\n"
   ]
  },
  {
   "cell_type": "markdown",
   "metadata": {},
   "source": [
    "# Run the script to do MCMC sampling (using pyStan)"
   ]
  },
  {
   "cell_type": "code",
   "execution_count": null,
   "metadata": {
    "collapsed": false,
    "run_control": {
     "frozen": false,
     "read_only": false
    }
   },
   "outputs": [],
   "source": [
    "%run pystan_bayesmodel.py -i Mouse_dataset.cef -o output_folder/ -p 20"
   ]
  },
  {
   "cell_type": "markdown",
   "metadata": {},
   "source": [
    "# Load the Cef file\n",
    "This is just reading the annotation, actual data is not used here. Only posteriors will be considered"
   ]
  },
  {
   "cell_type": "code",
   "execution_count": 3,
   "metadata": {
    "collapsed": false,
    "run_control": {
     "frozen": false,
     "read_only": false
    }
   },
   "outputs": [],
   "source": [
    "cef = CEF_obj()\n",
    "cef.readCEF('data/Mouse_dataset.cef')"
   ]
  },
  {
   "cell_type": "code",
   "execution_count": 4,
   "metadata": {
    "code_folding": [],
    "collapsed": false,
    "run_control": {
     "frozen": false,
     "read_only": false
    }
   },
   "outputs": [],
   "source": [
    "clustering_attribute = 'Cell_type'\n",
    "for i,v in izip(cef.col_attr_names, cef.col_attr_values):\n",
    "    if i == clustering_attribute:\n",
    "        predictor_list = v\n",
    "    if 'total' in i.lower():\n",
    "        total_molecules = [float(j) for j in v ]\n",
    "\n",
    "for i,v in izip(cef.row_attr_names, cef.row_attr_values):\n",
    "    if 'gene' in i.lower():\n",
    "        gene_names = v\n",
    "\n",
    "total = sum(total_molecules)/len(total_molecules)\n",
    "total_molecules_norm = [j/total for j in total_molecules]\n",
    "predictors = ['Size']\n",
    "for i in predictor_list:\n",
    "    if i not in predictors:\n",
    "        predictors.append(i)\n",
    "\n",
    "predictor_matrix = []\n",
    "for i, c_p in enumerate( predictor_list ):\n",
    "    predictor_matrix.append( [total_molecules_norm[i]] + [float(c_p==p) for p in predictors[1:]] )"
   ]
  },
  {
   "cell_type": "markdown",
   "metadata": {},
   "source": [
    "# Load the posteriors and define Binary Patterns"
   ]
  },
  {
   "cell_type": "code",
   "execution_count": 5,
   "metadata": {
    "code_folding": [],
    "collapsed": false,
    "run_control": {
     "frozen": false,
     "read_only": false
    }
   },
   "outputs": [],
   "source": [
    "#Load regression filenames and genes names\n",
    "gene_names = cef.row_attr_values[0]\n",
    "get_path_from_name = lambda x: 'output_folder/beta_%s.npy' % x\n",
    "file_paths = map(get_path_from_name, gene_names )\n",
    "# For a quick test instead uncomment the following\n",
    "#file_paths = ['output_folder/beta_Th.npy','output_folder/beta_Ednrb.npy']\n",
    "#gene_names = ['Th','Ednrb']"
   ]
  },
  {
   "cell_type": "code",
   "execution_count": 6,
   "metadata": {
    "collapsed": false,
    "run_control": {
     "frozen": false,
     "read_only": false
    }
   },
   "outputs": [],
   "source": [
    "order_predictors = ['Size','mEndo','mPeric', 'mMgl','mEpend', 'mRgl3', 'mRgl2', 'mRgl1',\n",
    " 'mNProg', 'mNbM', 'mNbML2', 'mNbL2', 'mNbDA', 'mDA0', 'mDA1', 'mDA2',\n",
    " 'mNbML1', 'mNbML3', 'mNbL1', 'mNbML4', 'mRN', 'mGaba1b', 'mGaba1a', 'mGaba2', 'mSert',\n",
    " 'mOMTN', 'mNbML5']\n",
    "reordering = [predictors.index(i) for i in order_predictors ]"
   ]
  },
  {
   "cell_type": "code",
   "execution_count": 7,
   "metadata": {
    "code_folding": [
     1
    ],
    "collapsed": false,
    "run_control": {
     "frozen": false,
     "read_only": false
    }
   },
   "outputs": [],
   "source": [
    "x = array(predictor_matrix, dtype=float)\n",
    "total_relative_to_basal = ( (x>0) * x[:,(array(predictors) == 'Size')] ).sum(0) / (x>0).sum(0)\n",
    "reordered_total_relative_to_basal = total_relative_to_basal[reordering]"
   ]
  },
  {
   "cell_type": "code",
   "execution_count": 10,
   "metadata": {
    "collapsed": false,
    "run_control": {
     "frozen": false,
     "read_only": false
    }
   },
   "outputs": [],
   "source": [
    "# Define Binary patterns\n",
    "pattern_dict = {}\n",
    "\n",
    "for path, gene in zip(file_paths, gene_names):\n",
    "    d = load(path)[:,reordering] - 1 #because in the mode 1 is added\n",
    "    \n",
    "    # Condition 1 to define binary pattern\n",
    "    difference_basal = d[:,0:1]*reordered_total_relative_to_basal - d + 1e-12\n",
    "    #Check that the differece with the bassal is positive for almost all the realizations\n",
    "    bigger_condition = (difference_basal < 0).sum(0) >= 998 # For max strictness do == 1000\n",
    "    #Check if the gene is \"basal\"\n",
    "    bigger_condition[0] = (difference_basal > 0).mean() > 0.999\n",
    "    \n",
    "    #Condition 2 to define binary pattern\n",
    "    median_categories = median(d/reordered_total_relative_to_basal, axis=0)\n",
    "    median_condition = median_categories >= 0.35 *max(median_categories)\n",
    "    \n",
    "    #Condition 3 to define binary pattern\n",
    "    high_enough = (max(median_categories) > 0.4 )*ones_like(median_condition)\n",
    "    \n",
    "    #Logic and: all the condition must be satisfied\n",
    "    binary_pattern = bigger_condition & median_condition & high_enough\n",
    "    \n",
    "    #Store in the dictionary\n",
    "    pattern_dict[gene] = binary_pattern"
   ]
  },
  {
   "cell_type": "code",
   "execution_count": 11,
   "metadata": {
    "code_folding": [],
    "collapsed": false,
    "run_control": {
     "frozen": false,
     "read_only": false
    }
   },
   "outputs": [],
   "source": [
    "median_dict = {}\n",
    "\n",
    "for path, gene in zip(file_paths, gene_names):\n",
    "    d = load(path)[:,reordering] - 1 #because in the mode 1 is added\n",
    "\n",
    "    medians_expression = d[:,0:1]*reordered_total_relative_to_basal + d + 1e-12\n",
    "    median_dict[gene] = median(medians_expression, 0)"
   ]
  },
  {
   "cell_type": "code",
   "execution_count": 12,
   "metadata": {
    "collapsed": false,
    "run_control": {
     "frozen": false,
     "read_only": false
    }
   },
   "outputs": [],
   "source": [
    "# Make a  pattern dataframe\n",
    "pattern_df = pd.DataFrame( pattern_dict, index=order_predictors, dtype=int).T\n",
    "median_df = pd.DataFrame( median_dict, index=order_predictors, dtype=float).T"
   ]
  },
  {
   "cell_type": "markdown",
   "metadata": {},
   "source": [
    "# Plot violins\n",
    "of the posterior probability distribution for the NB mean parameters"
   ]
  },
  {
   "cell_type": "code",
   "execution_count": 13,
   "metadata": {
    "collapsed": true,
    "run_control": {
     "frozen": false,
     "read_only": false
    }
   },
   "outputs": [],
   "source": [
    "gene = 'Ednrb' # the name of the gene to plot"
   ]
  },
  {
   "cell_type": "code",
   "execution_count": 14,
   "metadata": {
    "collapsed": true,
    "run_control": {
     "frozen": false,
     "read_only": false
    }
   },
   "outputs": [],
   "source": [
    "from matplotlib.pyplot import violinplot"
   ]
  },
  {
   "cell_type": "code",
   "execution_count": 142,
   "metadata": {
    "collapsed": false,
    "hide_input": true,
    "run_control": {
     "frozen": false,
     "read_only": false
    }
   },
   "outputs": [
    {
     "data": {
      "image/png": "[encoded data removed]",
      "text/plain": [
       "<matplotlib.figure.Figure at 0x138f56450>"
      ]
     },
     "metadata": {},
     "output_type": "display_data"
    }
   ],
   "source": [
    "rcParams['savefig.dpi'] = 100\n",
    "\n",
    "\n",
    "d = load(get_path_from_name(gene))[:,reordering] - 1\n",
    "binary_pattern = pattern_dict[gene]\n",
    "maxy = 1.3*percentile(d[:,argmax(d.mean(0))],91.)\n",
    "\n",
    "fig = figure(figsize=(8,2.5))\n",
    "sns.set(style=\"whitegrid\", font=\"Arial Black\")\n",
    "sns.set(style ='white')\n",
    "\n",
    "\n",
    "r = violinplot(d,widths=0.9, showmeans=True)\n",
    "\n",
    "for b in r['bodies']:\n",
    "    b.set_color(cm.rainbow(random.rand()))\n",
    "    b.set_zorder(100)\n",
    "    b.set_alpha(1)\n",
    "for b in [r[u'cbars'],r[u'cmins'],r[u'cmaxes'],r[u'cmeans']]:\n",
    "    b.set_color('k')\n",
    "    b.set_alpha(1)\n",
    "    b.set_linewidth(0.3)\n",
    "    b.set_zorder(100)\n",
    "\n",
    "\n",
    "xticks(arange(len(order_predictors))+1, order_predictors, rotation=90)\n",
    "\n",
    "bar(arange(binary_pattern.size)+1, (2.01*maxy * binary_pattern),color='0.1',\\\n",
    "        width=1 , alpha=0.2, linewidth=0, align='center',zorder=-10)\n",
    "\n",
    "xticks(rotation=90,horizontalalignment='center', verticalalignment='top',\n",
    "       position=(0,0.05), fontsize='small', color=(0.2,0.2,0.2))\n",
    "yticks(fontsize='xx-small', alpha=0.4)\n",
    "\n",
    "ylabel('Posterior\\n(Molecules/cell)', fontsize='medium', position=(-0.5,0.5), color=(0.2,0.2,0.2), alpha=0.8)\n",
    "title(gene, position=(0.46,1), fontsize='xx-large')\n",
    "\n",
    "sns.despine(left=True);\n",
    "ylim(0, maxy)\n",
    "\n",
    "tight_layout()"
   ]
  }
 ],
 "metadata": {
  "kernelspec": {
   "display_name": "Python 2",
   "language": "python",
   "name": "python2"
  },
  "language_info": {
   "codemirror_mode": {
    "name": "ipython",
    "version": 2
   },
   "file_extension": ".py",
   "mimetype": "text/x-python",
   "name": "python",
   "nbconvert_exporter": "python",
   "pygments_lexer": "ipython2",
   "version": "2.7.12"
  },
  "toc": {
   "toc_cell": true,
   "toc_number_sections": true,
   "toc_section_display": "none",
   "toc_threshold": 6,
   "toc_window_display": true
  },
  "toc_position": {
   "height": "306px",
   "left": "1131.015625px",
   "right": "20px",
   "top": "113px",
   "width": "189px"
  }
 },
 "nbformat": 4,
 "nbformat_minor": 0
}
